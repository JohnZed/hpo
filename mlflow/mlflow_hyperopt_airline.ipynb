{
 "cells": [
  {
   "cell_type": "code",
   "execution_count": 1,
   "metadata": {},
   "outputs": [],
   "source": [
    "import pandas as pd\n",
    "import sklearn.model_selection as sk\n",
    "from sklearn.metrics import mean_squared_error, mean_absolute_error, r2_score, accuracy_score\n",
    "from sklearn.model_selection import train_test_split\n",
    "from sklearn.metrics import accuracy_score\n",
    "import xgboost as xgb\n",
    "import mlflow\n",
    "import numpy as np\n",
    "import hyperopt\n",
    "from mlflow.tracking.client import MlflowClient"
   ]
  },
  {
   "cell_type": "code",
   "execution_count": 13,
   "metadata": {},
   "outputs": [],
   "source": [
    "from hyperopt import fmin, tpe, hp, Trials, STATUS_OK\n",
    "\n",
    "def train(params):\n",
    "    \"\"\"\n",
    "    An example train method that computes the square of the input.\n",
    "    This method will be passed to `hyperopt.fmin()`.\n",
    "\n",
    "    :param params: hyperparameters. Its structure is consistent with how search space is defined. See below.\n",
    "    :return: dict with fields 'loss' (scalar loss) and 'status' (success/failure status of run)\n",
    "    \"\"\"\n",
    "    \n",
    "    max_depth, alpha = params\n",
    "    \n",
    "    max_depth = int(max_depth)\n",
    "    df = pd.read_csv(\"1996_airline.csv\", names=[\"Year\",\"Month\",\n",
    "                                             \"DayofMonth\",\"DayofWeek\",\n",
    "                                             \"CRSDepTime\",\"CRSArrTime\",\"UniqueCarer\",\n",
    "                                             \"FlightNum\",\"ActualElapsedTime\",\n",
    "                                             \"Origin\",\"Dest\",\"Distance\",\"Diverted\",\"ArrDelay\"])\n",
    "    # Split the data into training and test sets. (0.75, 0.25) split.\n",
    "    df['ArrDelayBinary'] = 1.0* (df[\"ArrDelay\"] > 10)\n",
    "\n",
    "    df['Dest'] = df['Dest'].astype('category').cat.codes.astype('int')\n",
    "    df['Origin'] = df['Origin'].astype('category').cat.codes.astype('int')\n",
    "    df['UniqueCarer'] = df['UniqueCarer'].astype('category').cat.codes.astype('int')\n",
    "\n",
    "    X = df[df.columns.difference([\"ArrDelay\", \"ArrDelayBinary\"])]\n",
    "    y = df[\"ArrDelayBinary\"]\n",
    "\n",
    "    X_train, X_test, y_train, y_test = train_test_split(X, y, test_size=0.2)\n",
    "    \n",
    "    mod = xgb.XGBClassifier(tree_method='hist',\n",
    "                              max_depth=max_depth,\n",
    "                              alpha=alpha,\n",
    "                           n_estimators=10)\n",
    "    mod.fit(X_train, y_train)\n",
    "    preds = mod.predict(X_test)\n",
    "    \n",
    "    def eval_metrics(actual, pred):\n",
    "        acc = accuracy_score(actual, pred)\n",
    "        return acc\n",
    "    \n",
    "    acc = eval_metrics(y_test, preds)\n",
    "    \n",
    "    return {'loss': acc, 'status': STATUS_OK}"
   ]
  },
  {
   "cell_type": "code",
   "execution_count": 14,
   "metadata": {},
   "outputs": [
    {
     "name": "stdout",
     "output_type": "stream",
     "text": [
      "100%|██████████| 2/2 [01:01<00:00, 30.70s/trial, best loss: 0.7472832398792167]\n"
     ]
    }
   ],
   "source": [
    "search_space = [\n",
    "        hp.uniform('max_depth', 5,10),\n",
    "        hp.uniform('alpha', .0, 1.0),\n",
    "    ]\n",
    "algo=tpe.suggest\n",
    "import mlflow\n",
    "\n",
    "with mlflow.start_run():\n",
    "    argmin = fmin(\n",
    "      fn=train,\n",
    "      space=search_space,\n",
    "      algo=algo,\n",
    "      max_evals=2)"
   ]
  },
  {
   "cell_type": "code",
   "execution_count": null,
   "metadata": {},
   "outputs": [],
   "source": []
  }
 ],
 "metadata": {
  "kernelspec": {
   "display_name": "Python 3",
   "language": "python",
   "name": "python3"
  },
  "language_info": {
   "codemirror_mode": {
    "name": "ipython",
    "version": 3
   },
   "file_extension": ".py",
   "mimetype": "text/x-python",
   "name": "python",
   "nbconvert_exporter": "python",
   "pygments_lexer": "ipython3",
   "version": "3.6.10"
  },
  "name": "airline_cpu",
  "notebookId": 474992448709016
 },
 "nbformat": 4,
 "nbformat_minor": 4
}
