{
 "cells": [
  {
   "cell_type": "code",
   "execution_count": 1,
   "metadata": {},
   "outputs": [
    {
     "name": "stderr",
     "output_type": "stream",
     "text": [
      "/home/jzedlewski/anaconda3/envs/cuml_dev/lib/python3.7/site-packages/treelite/gallery/__init__.py:7: FutureWarning: treelite.gallery.sklearn has been moved to treelite.sklearn. treelite.gallery.sklearn will be removed in version 1.1.\n",
      "  FutureWarning)\n",
      "/home/jzedlewski/anaconda3/envs/cuml_dev/lib/python3.7/site-packages/treelite/gallery/sklearn/__init__.py:9: FutureWarning: treelite.gallery.sklearn has been moved to treelite.sklearn. treelite.gallery.sklearn will be removed in version 1.1.\n",
      "  FutureWarning)\n"
     ]
    }
   ],
   "source": [
    "import cuml\n",
    "from cuml.metrics import accuracy_score\n",
    "from cuml.datasets.classification import make_classification\n",
    "\n",
    "from joblib import parallel_backend\n",
    "\n",
    "from dask.distributed import Client, wait\n",
    "from dask_cuda import LocalCUDACluster\n",
    "\n",
    "# This will use all GPUs on the local host by default\n",
    "cluster = LocalCUDACluster(threads_per_worker=1, ip=\"\", dashboard_address=\"8002\")\n",
    "c = Client(cluster)\n",
    "\n",
    "n_workers = 2"
   ]
  },
  {
   "cell_type": "code",
   "execution_count": 2,
   "metadata": {},
   "outputs": [],
   "source": [
    "from contextlib import contextmanager\n",
    "import time\n",
    "\n",
    "@contextmanager\n",
    "def timed(name):\n",
    "    t0 = time.time()\n",
    "    yield\n",
    "    t1 = time.time()\n",
    "    print(\"..%-24s:  %8.4f\" % (name, t1 - t0))"
   ]
  },
  {
   "cell_type": "code",
   "execution_count": 3,
   "metadata": {},
   "outputs": [],
   "source": [
    "def inner_func():\n",
    "    return X.sum()\n",
    "\n",
    "def inner_func_explicit(x_in):\n",
    "    return x_in.sum()"
   ]
  },
  {
   "cell_type": "code",
   "execution_count": 4,
   "metadata": {},
   "outputs": [],
   "source": [
    "X, y = make_classification(n_samples=10_000_000, n_features=10, n_classes=2)"
   ]
  },
  {
   "cell_type": "code",
   "execution_count": 5,
   "metadata": {},
   "outputs": [
    {
     "name": "stdout",
     "output_type": "stream",
     "text": [
      "[Parallel(n_jobs=2)]: Using backend DaskDistributedBackend with 2 concurrent workers.\n",
      "[Parallel(n_jobs=2)]: Done   1 tasks      | elapsed:   10.3s\n",
      "[Parallel(n_jobs=2)]: Done   2 tasks      | elapsed:   11.0s\n",
      "[Parallel(n_jobs=2)]: Done   3 tasks      | elapsed:   11.8s\n",
      "[Parallel(n_jobs=2)]: Done   4 tasks      | elapsed:   12.5s\n",
      "[Parallel(n_jobs=2)]: Done   5 tasks      | elapsed:   17.2s\n",
      "[Parallel(n_jobs=2)]: Done   6 tasks      | elapsed:   19.4s\n",
      "[Parallel(n_jobs=2)]: Done   7 tasks      | elapsed:   21.3s\n",
      "[Parallel(n_jobs=2)]: Done   8 out of  10 | elapsed:   21.3s remaining:    5.3s\n",
      "[Parallel(n_jobs=2)]: Done  10 out of  10 | elapsed:   22.6s remaining:    0.0s\n",
      "[Parallel(n_jobs=2)]: Done  10 out of  10 | elapsed:   22.6s finished\n",
      "..dask-backend            :   22.6091\n"
     ]
    }
   ],
   "source": [
    "import joblib\n",
    "with timed(\"dask-backend\"):\n",
    "    with parallel_backend(\"dask\", n_jobs=n_workers, client=c):\n",
    "        res_dask = joblib.Parallel(verbose=100)(\n",
    "            joblib.delayed(inner_func)()\n",
    "            for i in range(10)\n",
    "        )"
   ]
  },
  {
   "cell_type": "code",
   "execution_count": 6,
   "metadata": {},
   "outputs": [
    {
     "name": "stdout",
     "output_type": "stream",
     "text": [
      "[Parallel(n_jobs=2)]: Using backend DaskDistributedBackend with 2 concurrent workers.\n",
      "[Parallel(n_jobs=2)]: Done   1 tasks      | elapsed:    4.1s\n",
      "[Parallel(n_jobs=2)]: Done   2 tasks      | elapsed:    4.3s\n",
      "[Parallel(n_jobs=2)]: Done   3 tasks      | elapsed:    4.4s\n",
      "[Parallel(n_jobs=2)]: Done   4 tasks      | elapsed:    4.4s\n",
      "[Parallel(n_jobs=2)]: Done   5 tasks      | elapsed:    4.5s\n",
      "[Parallel(n_jobs=2)]: Done   6 tasks      | elapsed:    4.5s\n",
      "[Parallel(n_jobs=2)]: Done   7 tasks      | elapsed:    4.7s\n",
      "[Parallel(n_jobs=2)]: Done   8 out of  10 | elapsed:    4.7s remaining:    1.2s\n",
      "[Parallel(n_jobs=2)]: Done  10 out of  10 | elapsed:    4.8s remaining:    0.0s\n",
      "[Parallel(n_jobs=2)]: Done  10 out of  10 | elapsed:    4.8s finished\n",
      "..dask-backend-ex-noscatter:    4.8408\n"
     ]
    }
   ],
   "source": [
    "import joblib\n",
    "with timed(\"dask-backend-ex-noscatter\"):\n",
    "    with parallel_backend(\"dask\", n_jobs=n_workers, client=c):\n",
    "        res_dask = joblib.Parallel(verbose=100)(\n",
    "            joblib.delayed(inner_func_explicit)(X)\n",
    "            for i in range(10)\n",
    "        )"
   ]
  },
  {
   "cell_type": "code",
   "execution_count": 7,
   "metadata": {},
   "outputs": [
    {
     "name": "stdout",
     "output_type": "stream",
     "text": [
      "[Parallel(n_jobs=2)]: Using backend DaskDistributedBackend with 2 concurrent workers.\n",
      "[Parallel(n_jobs=2)]: Done   1 tasks      | elapsed:    0.1s\n",
      "[Parallel(n_jobs=2)]: Done   2 tasks      | elapsed:    0.1s\n",
      "[Parallel(n_jobs=2)]: Done   3 tasks      | elapsed:    0.2s\n",
      "[Parallel(n_jobs=2)]: Done   4 tasks      | elapsed:    0.3s\n",
      "[Parallel(n_jobs=2)]: Done   5 tasks      | elapsed:    0.3s\n",
      "[Parallel(n_jobs=2)]: Done   6 tasks      | elapsed:    0.3s\n",
      "[Parallel(n_jobs=2)]: Done   7 tasks      | elapsed:    0.4s\n",
      "[Parallel(n_jobs=2)]: Done   8 out of  10 | elapsed:    0.4s remaining:    0.1s\n",
      "[Parallel(n_jobs=2)]: Done  10 out of  10 | elapsed:    0.4s remaining:    0.0s\n",
      "[Parallel(n_jobs=2)]: Done  10 out of  10 | elapsed:    0.4s finished\n",
      "..dask-backend-ex-scatter :    3.1994\n"
     ]
    }
   ],
   "source": [
    "import joblib\n",
    "with timed(\"dask-backend-ex-scatter\"):\n",
    "    with parallel_backend(\"dask\", n_jobs=n_workers, client=c, scatter=[X]):\n",
    "        res_dask = joblib.Parallel(verbose=100)(\n",
    "            joblib.delayed(inner_func_explicit)(X)\n",
    "            for i in range(10)\n",
    "        )"
   ]
  },
  {
   "cell_type": "code",
   "execution_count": 8,
   "metadata": {},
   "outputs": [
    {
     "name": "stdout",
     "output_type": "stream",
     "text": [
      "[Parallel(n_jobs=2)]: Using backend LokyBackend with 2 concurrent workers.\n",
      "[Parallel(n_jobs=2)]: Done   1 tasks      | elapsed:    1.3s\n",
      "[Parallel(n_jobs=2)]: Done   2 tasks      | elapsed:    1.4s\n",
      "[Parallel(n_jobs=2)]: Done   3 tasks      | elapsed:    1.6s\n",
      "[Parallel(n_jobs=2)]: Done   4 tasks      | elapsed:    1.7s\n",
      "[Parallel(n_jobs=2)]: Done   5 tasks      | elapsed:    2.0s\n",
      "[Parallel(n_jobs=2)]: Done   6 tasks      | elapsed:    2.4s\n",
      "[Parallel(n_jobs=2)]: Done   7 tasks      | elapsed:    2.8s\n",
      "[Parallel(n_jobs=2)]: Done   8 out of  10 | elapsed:    3.2s remaining:    0.8s\n",
      "[Parallel(n_jobs=2)]: Done  10 out of  10 | elapsed:    3.8s remaining:    0.0s\n",
      "[Parallel(n_jobs=2)]: Done  10 out of  10 | elapsed:    3.8s finished\n",
      "..loky-backend            :    4.1000\n"
     ]
    }
   ],
   "source": [
    "with timed(\"loky-backend\"):\n",
    "    with parallel_backend(\"loky\", n_jobs=n_workers):\n",
    "        res_lok = joblib.Parallel(verbose=100)(\n",
    "            joblib.delayed(inner_func)()\n",
    "            for i in range(10)\n",
    "        )"
   ]
  },
  {
   "cell_type": "code",
   "execution_count": 9,
   "metadata": {},
   "outputs": [
    {
     "name": "stdout",
     "output_type": "stream",
     "text": [
      "[Parallel(n_jobs=2)]: Using backend LokyBackend with 2 concurrent workers.\n",
      "[Parallel(n_jobs=2)]: Done   1 tasks      | elapsed:    0.6s\n",
      "[Parallel(n_jobs=2)]: Done   2 tasks      | elapsed:    0.9s\n",
      "[Parallel(n_jobs=2)]: Done   3 tasks      | elapsed:    1.2s\n",
      "[Parallel(n_jobs=2)]: Done   4 tasks      | elapsed:    1.6s\n",
      "[Parallel(n_jobs=2)]: Done   5 tasks      | elapsed:    1.9s\n",
      "[Parallel(n_jobs=2)]: Done   6 tasks      | elapsed:    2.2s\n",
      "[Parallel(n_jobs=2)]: Done   7 tasks      | elapsed:    2.6s\n",
      "[Parallel(n_jobs=2)]: Done   8 out of  10 | elapsed:    2.9s remaining:    0.7s\n",
      "[Parallel(n_jobs=2)]: Done  10 out of  10 | elapsed:    3.7s remaining:    0.0s\n",
      "[Parallel(n_jobs=2)]: Done  10 out of  10 | elapsed:    3.7s finished\n",
      "..loky-backend-ex         :    3.8619\n"
     ]
    }
   ],
   "source": [
    "with timed(\"loky-backend-ex\"):\n",
    "    with parallel_backend(\"loky\", n_jobs=n_workers):\n",
    "        res_loky = joblib.Parallel(verbose=100)(\n",
    "            joblib.delayed(inner_func_explicit)(X)\n",
    "            for i in range(10)\n",
    "        )"
   ]
  },
  {
   "cell_type": "code",
   "execution_count": 10,
   "metadata": {},
   "outputs": [
    {
     "name": "stdout",
     "output_type": "stream",
     "text": [
      "..seq                     :    0.0050\n"
     ]
    }
   ],
   "source": [
    "res = []\n",
    "with timed(\"seq\"):\n",
    "    for i in range(10):\n",
    "        res.append(inner_func_explicit(X))"
   ]
  },
  {
   "cell_type": "code",
   "execution_count": null,
   "metadata": {},
   "outputs": [],
   "source": []
  }
 ],
 "metadata": {
  "kernelspec": {
   "display_name": "Python 3",
   "language": "python",
   "name": "python3"
  },
  "language_info": {
   "codemirror_mode": {
    "name": "ipython",
    "version": 3
   },
   "file_extension": ".py",
   "mimetype": "text/x-python",
   "name": "python",
   "nbconvert_exporter": "python",
   "pygments_lexer": "ipython3",
   "version": "3.7.6"
  }
 },
 "nbformat": 4,
 "nbformat_minor": 4
}
