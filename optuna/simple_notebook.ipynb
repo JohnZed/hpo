{
 "cells": [
  {
   "cell_type": "code",
   "execution_count": 1,
   "metadata": {},
   "outputs": [
    {
     "name": "stderr",
     "output_type": "stream",
     "text": [
      "/opt/conda/envs/rapids/lib/python3.6/site-packages/treelite/gallery/__init__.py:7: FutureWarning: treelite.gallery.sklearn has been moved to treelite.sklearn. treelite.gallery.sklearn will be removed in version 1.1.\n",
      "  FutureWarning)\n",
      "/opt/conda/envs/rapids/lib/python3.6/site-packages/treelite/gallery/sklearn/__init__.py:9: FutureWarning: treelite.gallery.sklearn has been moved to treelite.sklearn. treelite.gallery.sklearn will be removed in version 1.1.\n",
      "  FutureWarning)\n"
     ]
    },
    {
     "data": {
      "text/html": [
       "<table style=\"border: 2px solid white;\">\n",
       "<tr>\n",
       "<td style=\"vertical-align: top; border: 0px solid white\">\n",
       "<h3 style=\"text-align: left;\">Client</h3>\n",
       "<ul style=\"text-align: left; list-style: none; margin: 0; padding: 0;\">\n",
       "  <li><b>Scheduler: </b>tcp://172.17.0.2:40823</li>\n",
       "  <li><b>Dashboard: </b><a href='http://172.17.0.2:8002/status' target='_blank'>http://172.17.0.2:8002/status</a></li>\n",
       "</ul>\n",
       "</td>\n",
       "<td style=\"vertical-align: top; border: 0px solid white\">\n",
       "<h3 style=\"text-align: left;\">Cluster</h3>\n",
       "<ul style=\"text-align: left; list-style:none; margin: 0; padding: 0;\">\n",
       "  <li><b>Workers: </b>2</li>\n",
       "  <li><b>Cores: </b>2</li>\n",
       "  <li><b>Memory: </b>49.16 GB</li>\n",
       "</ul>\n",
       "</td>\n",
       "</tr>\n",
       "</table>"
      ],
      "text/plain": [
       "<Client: 'tcp://172.17.0.2:40823' processes=2 threads=2, memory=49.16 GB>"
      ]
     },
     "execution_count": 1,
     "metadata": {},
     "output_type": "execute_result"
    }
   ],
   "source": [
    "from cuml.preprocessing.model_selection import train_test_split\n",
    "\n",
    "import cuml\n",
    "from cuml.ensemble import RandomForestClassifier\n",
    "from cuml.metrics import accuracy_score\n",
    "from cuml.datasets.classification import make_classification\n",
    "\n",
    "from joblib import parallel_backend\n",
    "\n",
    "from dask.distributed import Client, wait\n",
    "from dask_cuda import LocalCUDACluster\n",
    "\n",
    "# This will use all GPUs on the local host by default\n",
    "cluster = LocalCUDACluster(threads_per_worker=1, ip=\"\", dashboard_address=\"8002\")\n",
    "c = Client(cluster)\n",
    "\n",
    "# Query the client for all connected workers\n",
    "workers = c.has_what().keys()\n",
    "n_workers = len(workers)\n",
    "n_streams = 8 # Performance optimization\n",
    "c"
   ]
  },
  {
   "cell_type": "code",
   "execution_count": 2,
   "metadata": {},
   "outputs": [],
   "source": [
    "from contextlib import contextmanager\n",
    "import time\n",
    "\n",
    "@contextmanager\n",
    "def timed(name):\n",
    "    t0 = time.time()\n",
    "    yield\n",
    "    t1 = time.time()\n",
    "    print(\"..%-24s:  %8.4f\" % (name, t1 - t0))"
   ]
  },
  {
   "cell_type": "code",
   "execution_count": 3,
   "metadata": {},
   "outputs": [],
   "source": [
    "def train_and_eval():\n",
    "    classifier = RandomForestClassifier()\n",
    "\n",
    "    X_train, X_valid, y_train, y_valid = train_test_split(X, y, random_state=77)\n",
    "\n",
    "    classifier.fit(X_train, y_train)\n",
    "    y_pred = classifier.predict(X_valid)\n",
    "    score = accuracy_score(y_valid, y_pred)\n",
    "    return score"
   ]
  },
  {
   "cell_type": "code",
   "execution_count": 4,
   "metadata": {},
   "outputs": [
    {
     "name": "stdout",
     "output_type": "stream",
     "text": [
      "[Parallel(n_jobs=2)]: Using backend DaskDistributedBackend with 2 concurrent workers.\n",
      "[Parallel(n_jobs=2)]: Done   1 tasks      | elapsed:   18.0s\n",
      "[Parallel(n_jobs=2)]: Done   2 tasks      | elapsed:   22.1s\n",
      "[Parallel(n_jobs=2)]: Done   3 tasks      | elapsed:   25.7s\n",
      "[Parallel(n_jobs=2)]: Done   4 tasks      | elapsed:   30.4s\n",
      "[Parallel(n_jobs=2)]: Done   5 tasks      | elapsed:   36.0s\n",
      "[Parallel(n_jobs=2)]: Done   6 tasks      | elapsed:   41.7s\n",
      "[Parallel(n_jobs=2)]: Done   7 tasks      | elapsed:   46.8s\n",
      "[Parallel(n_jobs=2)]: Done   8 out of  10 | elapsed:   52.4s remaining:   13.1s\n",
      "[Parallel(n_jobs=2)]: Done  10 out of  10 | elapsed:  1.0min remaining:    0.0s\n",
      "[Parallel(n_jobs=2)]: Done  10 out of  10 | elapsed:  1.0min finished\n",
      "..dask-backend            :   61.4132\n"
     ]
    }
   ],
   "source": [
    "X, y = make_classification(n_samples=10000000, n_features=10, n_classes=2)\n",
    "import joblib\n",
    "with timed(\"dask-backend\"):\n",
    "    with parallel_backend(\"dask\", n_jobs=n_workers, client=c):\n",
    "        joblib.Parallel(verbose=100)(\n",
    "        joblib.delayed(train_and_eval)()\n",
    "        for i in range(10))"
   ]
  },
  {
   "cell_type": "code",
   "execution_count": 5,
   "metadata": {},
   "outputs": [
    {
     "name": "stdout",
     "output_type": "stream",
     "text": [
      "[Parallel(n_jobs=2)]: Using backend LokyBackend with 2 concurrent workers.\n",
      "[Parallel(n_jobs=2)]: Done   1 tasks      | elapsed:   17.2s\n",
      "[Parallel(n_jobs=2)]: Done   2 tasks      | elapsed:   17.6s\n",
      "[Parallel(n_jobs=2)]: Done   3 tasks      | elapsed:   31.9s\n",
      "[Parallel(n_jobs=2)]: Done   4 tasks      | elapsed:   31.9s\n",
      "[Parallel(n_jobs=2)]: Done   5 tasks      | elapsed:   46.2s\n",
      "[Parallel(n_jobs=2)]: Done   6 tasks      | elapsed:   46.6s\n",
      "[Parallel(n_jobs=2)]: Done   7 tasks      | elapsed:  1.0min\n",
      "[Parallel(n_jobs=2)]: Done   8 out of  10 | elapsed:  1.0min remaining:   15.3s\n",
      "[Parallel(n_jobs=2)]: Done  10 out of  10 | elapsed:  1.3min remaining:    0.0s\n",
      "[Parallel(n_jobs=2)]: Done  10 out of  10 | elapsed:  1.3min finished\n",
      "..loky-backend            :   75.7332\n"
     ]
    }
   ],
   "source": [
    "with timed(\"loky-backend\"):\n",
    "    with parallel_backend(\"loky\", n_jobs=n_workers):\n",
    "        joblib.Parallel(verbose=100)(\n",
    "        joblib.delayed(train_and_eval)()\n",
    "        for i in range(10))"
   ]
  },
  {
   "cell_type": "code",
   "execution_count": 6,
   "metadata": {},
   "outputs": [
    {
     "name": "stdout",
     "output_type": "stream",
     "text": [
      "..seq                     :   76.3795\n"
     ]
    }
   ],
   "source": [
    "with timed(\"seq\"):\n",
    "    for i in range(10):\n",
    "        s= train_and_eval()"
   ]
  },
  {
   "cell_type": "code",
   "execution_count": null,
   "metadata": {},
   "outputs": [],
   "source": []
  }
 ],
 "metadata": {
  "kernelspec": {
   "display_name": "Python 3",
   "language": "python",
   "name": "python3"
  },
  "language_info": {
   "codemirror_mode": {
    "name": "ipython",
    "version": 3
   },
   "file_extension": ".py",
   "mimetype": "text/x-python",
   "name": "python",
   "nbconvert_exporter": "python",
   "pygments_lexer": "ipython3",
   "version": "3.6.10"
  }
 },
 "nbformat": 4,
 "nbformat_minor": 4
}
