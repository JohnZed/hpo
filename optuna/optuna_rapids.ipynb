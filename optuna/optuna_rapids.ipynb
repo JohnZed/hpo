{
 "cells": [
  {
   "cell_type": "code",
   "execution_count": 1,
   "metadata": {},
   "outputs": [],
   "source": [
    "import cudf\n",
    "import dask.array as da\n",
    "from cuml.linear_model import LogisticRegression\n",
    "from cuml.preprocessing.model_selection import train_test_split\n",
    "from sklearn.datasets import load_iris\n",
    "\n",
    "import pandas as pd\n",
    "import optuna\n",
    "import numpy as np\n",
    "import mlflow\n",
    "import cuml\n",
    "from cuml.ensemble import RandomForestRegressor\n",
    "from cuml.metrics import accuracy_score"
   ]
  },
  {
   "cell_type": "code",
   "execution_count": 2,
   "metadata": {},
   "outputs": [],
   "source": [
    "def objective(trial):\n",
    "    iris = load_iris()\n",
    "    X, y = cudf.DataFrame(pd.DataFrame(iris.data.astype('float32'))), cudf.DataFrame(pd.DataFrame(iris.target.astype('float32')))\n",
    "    max_depth = trial.suggest_int(\"max_depth\", 5, 15)\n",
    "    n_estimators = trial.suggest_int(\"n_estimators\", 100, 750)\n",
    "    max_leaves = trial.suggest_int(\"max_leaves\", -1, 20, 2)\n",
    "\n",
    "    classifier = RandomForestRegressor(max_depth=max_depth,\n",
    "                                       n_estimators=n_estimators,\n",
    "                                      max_leaves=max_leaves)\n",
    "\n",
    "    X_train, X_valid, y_train, y_valid = train_test_split(X, y)\n",
    "    classifier.fit(X_train, y_train)\n",
    "    y_pred = classifier.predict(X_valid)\n",
    "    \n",
    "    score = accuracy_score(y_valid, y_pred)\n",
    "    return score"
   ]
  },
  {
   "cell_type": "code",
   "execution_count": 3,
   "metadata": {},
   "outputs": [],
   "source": [
    "N_TRIALS = 10"
   ]
  },
  {
   "cell_type": "code",
   "execution_count": 4,
   "metadata": {},
   "outputs": [
    {
     "name": "stderr",
     "output_type": "stream",
     "text": [
      "/opt/conda/envs/rapids/lib/python3.6/site-packages/optuna/distributions.py:544: UserWarning: The distribution is specified by [-1, 20] and step=2, but the range is not divisible by `step`. It will be replaced by [-1, 19].\n",
      "  low=low, old_high=old_high, high=high, step=step\n",
      "\u001b[32m[I 2020-06-11 15:04:57,558]\u001b[0m Finished trial#0 with value: 0.7105262875556946 with parameters: {'max_depth': 8, 'n_estimators': 582, 'max_leaves': 9}. Best is trial#0 with value: 0.7105262875556946.\u001b[0m\n",
      "\u001b[32m[I 2020-06-11 15:04:58,170]\u001b[0m Finished trial#1 with value: 0.7894737124443054 with parameters: {'max_depth': 9, 'n_estimators': 507, 'max_leaves': 7}. Best is trial#1 with value: 0.7894737124443054.\u001b[0m\n",
      "\u001b[32m[I 2020-06-11 15:04:58,848]\u001b[0m Finished trial#2 with value: 0.7894737124443054 with parameters: {'max_depth': 11, 'n_estimators': 446, 'max_leaves': 19}. Best is trial#1 with value: 0.7894737124443054.\u001b[0m\n",
      "\u001b[32m[I 2020-06-11 15:04:59,452]\u001b[0m Finished trial#3 with value: 0.7894737124443054 with parameters: {'max_depth': 8, 'n_estimators': 563, 'max_leaves': 17}. Best is trial#1 with value: 0.7894737124443054.\u001b[0m\n",
      "\u001b[32m[I 2020-06-11 15:05:00,144]\u001b[0m Finished trial#4 with value: 0.6052631735801697 with parameters: {'max_depth': 5, 'n_estimators': 721, 'max_leaves': 15}. Best is trial#1 with value: 0.7894737124443054.\u001b[0m\n",
      "\u001b[32m[I 2020-06-11 15:05:00,705]\u001b[0m Finished trial#5 with value: 0.5263158082962036 with parameters: {'max_depth': 14, 'n_estimators': 486, 'max_leaves': 3}. Best is trial#1 with value: 0.7894737124443054.\u001b[0m\n",
      "\u001b[32m[I 2020-06-11 15:05:00,965]\u001b[0m Finished trial#6 with value: 0.7368420958518982 with parameters: {'max_depth': 12, 'n_estimators': 235, 'max_leaves': 1}. Best is trial#1 with value: 0.7894737124443054.\u001b[0m\n",
      "\u001b[32m[I 2020-06-11 15:05:01,176]\u001b[0m Finished trial#7 with value: 0.6052631735801697 with parameters: {'max_depth': 6, 'n_estimators': 178, 'max_leaves': 1}. Best is trial#1 with value: 0.7894737124443054.\u001b[0m\n",
      "\u001b[32m[I 2020-06-11 15:05:01,976]\u001b[0m Finished trial#8 with value: 0.6315789222717285 with parameters: {'max_depth': 11, 'n_estimators': 615, 'max_leaves': 7}. Best is trial#1 with value: 0.7894737124443054.\u001b[0m\n",
      "\u001b[32m[I 2020-06-11 15:05:02,265]\u001b[0m Finished trial#9 with value: 0.5263158082962036 with parameters: {'max_depth': 8, 'n_estimators': 225, 'max_leaves': 3}. Best is trial#1 with value: 0.7894737124443054.\u001b[0m\n"
     ]
    },
    {
     "name": "stdout",
     "output_type": "stream",
     "text": [
      "Number of finished trials:  10\n",
      "Best trial:\n",
      "  Value:  0.7894737124443054\n",
      "  Params: \n",
      "    max_depth: 9\n",
      "    n_estimators: 507\n",
      "    max_leaves: 7\n"
     ]
    }
   ],
   "source": [
    "study = optuna.create_study(direction=\"maximize\")\n",
    "study.optimize(objective, n_trials=N_TRIALS)\n",
    "\n",
    "print(\"Number of finished trials: \", len(study.trials))\n",
    "\n",
    "print(\"Best trial:\")\n",
    "trial = study.best_trial\n",
    "\n",
    "print(\"  Value: \", trial.value)\n",
    "\n",
    "print(\"  Params: \")\n",
    "for key, value in trial.params.items():\n",
    "    print(\"    {}: {}\".format(key, value))"
   ]
  },
  {
   "cell_type": "code",
   "execution_count": 5,
   "metadata": {},
   "outputs": [],
   "source": [
    "def mlflow_callback(study, trial):\n",
    "    trial_value = trial.value if trial.value is not None else float(\"nan\")\n",
    "    with mlflow.start_run(run_name=study.study_name):\n",
    "        mlflow.log_params(trial.params)\n",
    "        mlflow.log_metrics({\"accuracy\": trial_value})"
   ]
  },
  {
   "cell_type": "code",
   "execution_count": 6,
   "metadata": {},
   "outputs": [
    {
     "name": "stderr",
     "output_type": "stream",
     "text": [
      "\u001b[32m[I 2020-06-11 15:05:02,594]\u001b[0m Finished trial#0 with value: 0.3684210479259491 with parameters: {'max_depth': 14, 'n_estimators': 121, 'max_leaves': 11}. Best is trial#0 with value: 0.3684210479259491.\u001b[0m\n",
      "/opt/conda/envs/rapids/lib/python3.6/site-packages/optuna/distributions.py:544: UserWarning: The distribution is specified by [-1, 20] and step=2, but the range is not divisible by `step`. It will be replaced by [-1, 19].\n",
      "  low=low, old_high=old_high, high=high, step=step\n",
      "\u001b[32m[I 2020-06-11 15:05:03,379]\u001b[0m Finished trial#1 with value: 0.6315789222717285 with parameters: {'max_depth': 6, 'n_estimators': 616, 'max_leaves': 1}. Best is trial#1 with value: 0.6315789222717285.\u001b[0m\n",
      "\u001b[32m[I 2020-06-11 15:05:03,582]\u001b[0m Finished trial#2 with value: 0.8421052694320679 with parameters: {'max_depth': 5, 'n_estimators': 149, 'max_leaves': 11}. Best is trial#2 with value: 0.8421052694320679.\u001b[0m\n",
      "\u001b[32m[I 2020-06-11 15:05:04,077]\u001b[0m Finished trial#3 with value: 0.6842105388641357 with parameters: {'max_depth': 8, 'n_estimators': 356, 'max_leaves': 15}. Best is trial#2 with value: 0.8421052694320679.\u001b[0m\n",
      "\u001b[32m[I 2020-06-11 15:05:04,798]\u001b[0m Finished trial#4 with value: 0.6842105388641357 with parameters: {'max_depth': 12, 'n_estimators': 691, 'max_leaves': 3}. Best is trial#2 with value: 0.8421052694320679.\u001b[0m\n",
      "\u001b[32m[I 2020-06-11 15:05:05,173]\u001b[0m Finished trial#5 with value: 0.7631579041481018 with parameters: {'max_depth': 13, 'n_estimators': 210, 'max_leaves': 11}. Best is trial#2 with value: 0.8421052694320679.\u001b[0m\n",
      "\u001b[32m[I 2020-06-11 15:05:06,215]\u001b[0m Finished trial#6 with value: 0.6578947305679321 with parameters: {'max_depth': 13, 'n_estimators': 712, 'max_leaves': 15}. Best is trial#2 with value: 0.8421052694320679.\u001b[0m\n",
      "\u001b[32m[I 2020-06-11 15:05:06,662]\u001b[0m Finished trial#7 with value: 0.6052631735801697 with parameters: {'max_depth': 6, 'n_estimators': 354, 'max_leaves': 7}. Best is trial#2 with value: 0.8421052694320679.\u001b[0m\n",
      "\u001b[32m[I 2020-06-11 15:05:07,310]\u001b[0m Finished trial#8 with value: 0.6842105388641357 with parameters: {'max_depth': 13, 'n_estimators': 523, 'max_leaves': 11}. Best is trial#2 with value: 0.8421052694320679.\u001b[0m\n",
      "\u001b[32m[I 2020-06-11 15:05:08,016]\u001b[0m Finished trial#9 with value: 0.6842105388641357 with parameters: {'max_depth': 8, 'n_estimators': 556, 'max_leaves': 7}. Best is trial#2 with value: 0.8421052694320679.\u001b[0m\n"
     ]
    },
    {
     "name": "stdout",
     "output_type": "stream",
     "text": [
      "Number of finished trials: 10\n",
      "Best trial:\n",
      "  Value: 0.8421052694320679\n",
      "  Params: \n",
      "    max_depth: 5\n",
      "    n_estimators: 149\n",
      "    max_leaves: 11\n"
     ]
    }
   ],
   "source": [
    "study = optuna.create_study(direction=\"maximize\")\n",
    "study.optimize(objective, n_trials=N_TRIALS, timeout=600, callbacks=[mlflow_callback])\n",
    "\n",
    "print(\"Number of finished trials: {}\".format(len(study.trials)))\n",
    "\n",
    "print(\"Best trial:\")\n",
    "trial = study.best_trial\n",
    "\n",
    "print(\"  Value: {}\".format(trial.value))\n",
    "\n",
    "print(\"  Params: \")\n",
    "for key, value in trial.params.items():\n",
    "    print(\"    {}: {}\".format(key, value))"
   ]
  },
  {
   "cell_type": "code",
   "execution_count": null,
   "metadata": {},
   "outputs": [],
   "source": []
  }
 ],
 "metadata": {
  "kernelspec": {
   "display_name": "Python 3",
   "language": "python",
   "name": "python3"
  },
  "language_info": {
   "codemirror_mode": {
    "name": "ipython",
    "version": 3
   },
   "file_extension": ".py",
   "mimetype": "text/x-python",
   "name": "python",
   "nbconvert_exporter": "python",
   "pygments_lexer": "ipython3",
   "version": "3.6.10"
  }
 },
 "nbformat": 4,
 "nbformat_minor": 4
}
