{
 "cells": [
  {
   "cell_type": "code",
   "execution_count": 1,
   "metadata": {},
   "outputs": [],
   "source": [
    "import warnings\n",
    "warnings.filterwarnings('ignore')"
   ]
  },
  {
   "cell_type": "code",
   "execution_count": 2,
   "metadata": {},
   "outputs": [],
   "source": [
    "import cudf\n",
    "import dask.array as da\n",
    "from cuml.linear_model import LogisticRegression\n",
    "from cuml.preprocessing.model_selection import train_test_split\n",
    "from sklearn.datasets import load_iris\n",
    "\n",
    "import pandas as pd\n",
    "import optuna\n",
    "import numpy as np\n",
    "import mlflow\n",
    "import cuml\n",
    "from cuml.ensemble import RandomForestRegressor\n",
    "import sklearn\n",
    "from cuml.metrics import accuracy_score"
   ]
  },
  {
   "cell_type": "code",
   "execution_count": 3,
   "metadata": {},
   "outputs": [],
   "source": [
    "from contextlib import contextmanager\n",
    "import time\n",
    "\n",
    "@contextmanager\n",
    "def timed(name):\n",
    "    t0 = time.time()\n",
    "    yield\n",
    "    t1 = time.time()\n",
    "    print(\"..%-24s:  %8.4f\" % (name, t1 - t0))"
   ]
  },
  {
   "cell_type": "code",
   "execution_count": 4,
   "metadata": {},
   "outputs": [],
   "source": [
    "def objective(trial):\n",
    "    \n",
    "    max_depth = trial.suggest_int(\"max_depth\", 5, 15)\n",
    "    n_estimators = trial.suggest_int(\"n_estimators\", 100, 750)\n",
    "\n",
    "    classifier = RandomForestRegressor(max_depth=max_depth,\n",
    "                                       n_estimators=n_estimators)\n",
    "\n",
    "    X_train, X_valid, y_train, y_valid = train_test_split(X, y)\n",
    "    \n",
    "    classifier.fit(X_train, y_train)\n",
    "    y_pred = classifier.predict(X_valid)\n",
    "    \n",
    "    score = accuracy_score(y_valid, y_pred)\n",
    "    return score"
   ]
  },
  {
   "cell_type": "code",
   "execution_count": 5,
   "metadata": {},
   "outputs": [],
   "source": [
    "N_TRIALS = 25\n",
    "INPUT_FILE = \"/home/hyperopt/data/air_par.parquet\""
   ]
  },
  {
   "cell_type": "code",
   "execution_count": 6,
   "metadata": {},
   "outputs": [
    {
     "name": "stdout",
     "output_type": "stream",
     "text": [
      "..etl                     :    1.6268\n"
     ]
    }
   ],
   "source": [
    "with timed(\"etl\"):\n",
    "    df = cudf.read_parquet(INPUT_FILE)\n",
    "    df['Dest'] = df['Dest'].astype('category').cat.codes.astype('float32')\n",
    "    df['Origin'] = df['Origin'].astype('category').cat.codes.astype('float32')\n",
    "    df['UniqueCarrier'] = df['UniqueCarrier'].astype('category').cat.codes.astype('float32')\n",
    "    \n",
    "    X, y = df.drop([\"ArrDelayBinary\"], axis=1), df[\"ArrDelayBinary\"].astype('int32')"
   ]
  },
  {
   "cell_type": "code",
   "execution_count": 7,
   "metadata": {},
   "outputs": [
    {
     "name": "stderr",
     "output_type": "stream",
     "text": [
      "\u001b[32m[I 2020-06-12 17:00:26,404]\u001b[0m Finished trial#0 with value: 0.8305467963218689 with parameters: {'max_depth': 11, 'n_estimators': 456}. Best is trial#0 with value: 0.8305467963218689.\u001b[0m\n",
      "\u001b[32m[I 2020-06-12 17:00:38,409]\u001b[0m Finished trial#1 with value: 0.8306936025619507 with parameters: {'max_depth': 10, 'n_estimators': 210}. Best is trial#1 with value: 0.8306936025619507.\u001b[0m\n",
      "\u001b[32m[I 2020-06-12 17:01:12,615]\u001b[0m Finished trial#2 with value: 0.8308894038200378 with parameters: {'max_depth': 14, 'n_estimators': 608}. Best is trial#2 with value: 0.8308894038200378.\u001b[0m\n",
      "\u001b[32m[I 2020-06-12 17:01:19,251]\u001b[0m Finished trial#3 with value: 0.8305041790008545 with parameters: {'max_depth': 9, 'n_estimators': 111}. Best is trial#2 with value: 0.8308894038200378.\u001b[0m\n",
      "\u001b[32m[I 2020-06-12 17:01:34,596]\u001b[0m Finished trial#4 with value: 0.8305754065513611 with parameters: {'max_depth': 10, 'n_estimators': 268}. Best is trial#2 with value: 0.8308894038200378.\u001b[0m\n",
      "\u001b[32m[I 2020-06-12 17:02:04,659]\u001b[0m Finished trial#5 with value: 0.8308618068695068 with parameters: {'max_depth': 13, 'n_estimators': 530}. Best is trial#2 with value: 0.8308894038200378.\u001b[0m\n",
      "\u001b[32m[I 2020-06-12 17:02:45,485]\u001b[0m Finished trial#6 with value: 0.8307793736457825 with parameters: {'max_depth': 7, 'n_estimators': 723}. Best is trial#2 with value: 0.8308894038200378.\u001b[0m\n",
      "\u001b[32m[I 2020-06-12 17:03:03,772]\u001b[0m Finished trial#7 with value: 0.8307808041572571 with parameters: {'max_depth': 6, 'n_estimators': 319}. Best is trial#2 with value: 0.8308894038200378.\u001b[0m\n",
      "\u001b[32m[I 2020-06-12 17:03:19,774]\u001b[0m Finished trial#8 with value: 0.8308916091918945 with parameters: {'max_depth': 5, 'n_estimators': 278}. Best is trial#8 with value: 0.8308916091918945.\u001b[0m\n",
      "\u001b[32m[I 2020-06-12 17:03:33,470]\u001b[0m Finished trial#9 with value: 0.8309022188186646 with parameters: {'max_depth': 15, 'n_estimators': 235}. Best is trial#9 with value: 0.8309022188186646.\u001b[0m\n",
      "\u001b[32m[I 2020-06-12 17:03:41,137]\u001b[0m Finished trial#10 with value: 0.8309175968170166 with parameters: {'max_depth': 15, 'n_estimators': 127}. Best is trial#10 with value: 0.8309175968170166.\u001b[0m\n",
      "\u001b[32m[I 2020-06-12 17:03:47,296]\u001b[0m Finished trial#11 with value: 0.8308669924736023 with parameters: {'max_depth': 15, 'n_estimators': 100}. Best is trial#10 with value: 0.8309175968170166.\u001b[0m\n",
      "\u001b[32m[I 2020-06-12 17:03:57,706]\u001b[0m Finished trial#12 with value: 0.8308826088905334 with parameters: {'max_depth': 15, 'n_estimators': 176}. Best is trial#10 with value: 0.8309175968170166.\u001b[0m\n",
      "\u001b[32m[I 2020-06-12 17:04:19,636]\u001b[0m Finished trial#13 with value: 0.8306396007537842 with parameters: {'max_depth': 13, 'n_estimators': 383}. Best is trial#10 with value: 0.8309175968170166.\u001b[0m\n",
      "\u001b[32m[I 2020-06-12 17:04:29,361]\u001b[0m Finished trial#14 with value: 0.8306220173835754 with parameters: {'max_depth': 12, 'n_estimators': 165}. Best is trial#10 with value: 0.8309175968170166.\u001b[0m\n",
      "\u001b[32m[I 2020-06-12 17:04:36,139]\u001b[0m Finished trial#15 with value: 0.8307875990867615 with parameters: {'max_depth': 15, 'n_estimators': 111}. Best is trial#10 with value: 0.8309175968170166.\u001b[0m\n",
      "\u001b[32m[I 2020-06-12 17:04:57,264]\u001b[0m Finished trial#16 with value: 0.8310068249702454 with parameters: {'max_depth': 13, 'n_estimators': 369}. Best is trial#16 with value: 0.8310068249702454.\u001b[0m\n",
      "\u001b[32m[I 2020-06-12 17:05:18,065]\u001b[0m Finished trial#17 with value: 0.8306217789649963 with parameters: {'max_depth': 13, 'n_estimators': 363}. Best is trial#16 with value: 0.8310068249702454.\u001b[0m\n",
      "\u001b[32m[I 2020-06-12 17:05:44,882]\u001b[0m Finished trial#18 with value: 0.831117570400238 with parameters: {'max_depth': 12, 'n_estimators': 471}. Best is trial#18 with value: 0.831117570400238.\u001b[0m\n",
      "\u001b[32m[I 2020-06-12 17:06:11,899]\u001b[0m Finished trial#19 with value: 0.8308420181274414 with parameters: {'max_depth': 8, 'n_estimators': 475}. Best is trial#18 with value: 0.831117570400238.\u001b[0m\n",
      "\u001b[32m[I 2020-06-12 17:06:45,527]\u001b[0m Finished trial#20 with value: 0.8309093713760376 with parameters: {'max_depth': 11, 'n_estimators': 593}. Best is trial#18 with value: 0.831117570400238.\u001b[0m\n",
      "\u001b[32m[I 2020-06-12 17:07:14,751]\u001b[0m Finished trial#21 with value: 0.8306856155395508 with parameters: {'max_depth': 12, 'n_estimators': 514}. Best is trial#18 with value: 0.831117570400238.\u001b[0m\n",
      "\u001b[32m[I 2020-06-12 17:07:54,042]\u001b[0m Finished trial#22 with value: 0.8307803869247437 with parameters: {'max_depth': 14, 'n_estimators': 693}. Best is trial#18 with value: 0.831117570400238.\u001b[0m\n",
      "\u001b[32m[I 2020-06-12 17:08:17,457]\u001b[0m Finished trial#23 with value: 0.8308534026145935 with parameters: {'max_depth': 12, 'n_estimators': 410}. Best is trial#18 with value: 0.831117570400238.\u001b[0m\n",
      "\u001b[32m[I 2020-06-12 17:08:50,468]\u001b[0m Finished trial#24 with value: 0.830742597579956 with parameters: {'max_depth': 14, 'n_estimators': 581}. Best is trial#18 with value: 0.831117570400238.\u001b[0m\n"
     ]
    },
    {
     "name": "stdout",
     "output_type": "stream",
     "text": [
      "..hpo                     :  529.2843\n"
     ]
    }
   ],
   "source": [
    "with timed(\"hpo\"):\n",
    "    study = optuna.create_study(direction=\"maximize\") # Equivalent to an experiment, a set of trials\n",
    "    study.optimize(objective, n_trials=N_TRIALS)"
   ]
  },
  {
   "cell_type": "code",
   "execution_count": 8,
   "metadata": {},
   "outputs": [],
   "source": [
    "params_max_depth, params_n_estimators = study.trials_dataframe()['params_max_depth'], study.trials_dataframe()['params_n_estimators']"
   ]
  },
  {
   "cell_type": "code",
   "execution_count": 9,
   "metadata": {},
   "outputs": [
    {
     "name": "stdout",
     "output_type": "stream",
     "text": [
      "..sequential-call         :  529.1178\n"
     ]
    }
   ],
   "source": [
    "with timed(\"sequential-call\"):\n",
    "    max_acc = -1\n",
    "    for i in range(N_TRIALS):\n",
    "        classifier = RandomForestRegressor(max_depth=params_max_depth[i],\n",
    "                                           n_estimators=params_n_estimators[i])\n",
    "\n",
    "        X_train, X_valid, y_train, y_valid = train_test_split(X, y)\n",
    "\n",
    "        classifier.fit(X_train, y_train)\n",
    "        y_pred = classifier.predict(X_valid)\n",
    "        score = accuracy_score(y_valid, y_pred)\n",
    "        if score > max_acc:\n",
    "            max_acc = score"
   ]
  },
  {
   "cell_type": "code",
   "execution_count": 10,
   "metadata": {},
   "outputs": [
    {
     "name": "stdout",
     "output_type": "stream",
     "text": [
      "Number of finished trials:  25\n",
      "Best trial:\n",
      "  Value:  0.831117570400238\n",
      "  Params: \n",
      "    max_depth: 12\n",
      "    n_estimators: 471\n"
     ]
    }
   ],
   "source": [
    "print(\"Number of finished trials: \", len(study.trials))\n",
    "\n",
    "print(\"Best trial:\")\n",
    "trial = study.best_trial\n",
    "\n",
    "print(\"  Value: \", trial.value)\n",
    "\n",
    "print(\"  Params: \")\n",
    "for key, value in trial.params.items():\n",
    "    print(\"    {}: {}\".format(key, value))"
   ]
  },
  {
   "cell_type": "code",
   "execution_count": 11,
   "metadata": {},
   "outputs": [],
   "source": [
    "# def mlflow_callback(study, trial):\n",
    "#     trial_value = trial.value if trial.value is not None else float(\"nan\")\n",
    "#     with mlflow.start_run(run_name=study.study_name):\n",
    "#         mlflow.log_params(trial.params)\n",
    "#         mlflow.log_metrics({\"accuracy\": trial_value})"
   ]
  },
  {
   "cell_type": "code",
   "execution_count": 12,
   "metadata": {},
   "outputs": [],
   "source": [
    "# with timed(\"mlflow-gpu\"):\n",
    "#     study = optuna.create_study(direction=\"maximize\")\n",
    "#     study.optimize(objective, n_trials=N_TRIALS, timeout=600, callbacks=[mlflow_callback])\n"
   ]
  },
  {
   "cell_type": "code",
   "execution_count": 13,
   "metadata": {},
   "outputs": [],
   "source": [
    "# CPU with 750 estimators max does not finish running after hours.\n",
    "# def objective_cpu(trial):\n",
    "    \n",
    "#     max_depth = trial.suggest_int(\"max_depth\", 5, 15)\n",
    "#     n_estimators = trial.suggest_int(\"n_estimators\", 100, 750)\n",
    "\n",
    "#     classifier = sklearn.ensemble.RandomForestRegressor(max_depth=max_depth,\n",
    "#                                        n_estimators=n_estimators)\n",
    "\n",
    "#     X_train, X_valid, y_train, y_valid = sklearn.model_selection.train_test_split(X_, y_)\n",
    "    \n",
    "#     classifier.fit(X_train, y_train)\n",
    "#     y_pred = classifier.predict(X_valid)\n",
    "    \n",
    "#     score = accuracy_score(y_valid, y_pred)\n",
    "#     return score"
   ]
  },
  {
   "cell_type": "code",
   "execution_count": 14,
   "metadata": {},
   "outputs": [],
   "source": [
    "# with timed(\"cpu-etl\"):\n",
    "#     df_pd = pd.read_parquet(INPUT_FILE)\n",
    "#     df_pd['Dest'] = df_pd['Dest'].astype('category').cat.codes.astype('float32')\n",
    "#     df_pd['Origin'] = df_pd['Origin'].astype('category').cat.codes.astype('float32')\n",
    "#     df_pd['UniqueCarrier'] = df_pd['UniqueCarrier'].astype('category').cat.codes.astype('float32')\n",
    "    \n",
    "#     X_, y_ = df_pd.drop([\"ArrDelayBinary\"], axis=1), df_pd[\"ArrDelayBinary\"].astype('int32')\n",
    "    \n",
    "# with timed(\"cpu-hpo\"):\n",
    "#     study = optuna.create_study(direction=\"maximize\") # Equivalent to an experiment, a set of trials\n",
    "#     study.optimize(objective_cpu, n_trials=N_TRIALS)"
   ]
  },
  {
   "cell_type": "code",
   "execution_count": 15,
   "metadata": {},
   "outputs": [
    {
     "ename": "NameError",
     "evalue": "name 'objective_cpu' is not defined",
     "output_type": "error",
     "traceback": [
      "\u001b[0;31m---------------------------------------------------------------------------\u001b[0m",
      "\u001b[0;31mNameError\u001b[0m                                 Traceback (most recent call last)",
      "\u001b[0;32m<ipython-input-15-ca1746cfd828>\u001b[0m in \u001b[0;36m<module>\u001b[0;34m\u001b[0m\n\u001b[1;32m      1\u001b[0m \u001b[0;32mwith\u001b[0m \u001b[0mtimed\u001b[0m\u001b[0;34m(\u001b[0m\u001b[0;34m\"mlflow-cpu\"\u001b[0m\u001b[0;34m)\u001b[0m\u001b[0;34m:\u001b[0m\u001b[0;34m\u001b[0m\u001b[0;34m\u001b[0m\u001b[0m\n\u001b[1;32m      2\u001b[0m     \u001b[0mstudy\u001b[0m \u001b[0;34m=\u001b[0m \u001b[0moptuna\u001b[0m\u001b[0;34m.\u001b[0m\u001b[0mcreate_study\u001b[0m\u001b[0;34m(\u001b[0m\u001b[0mdirection\u001b[0m\u001b[0;34m=\u001b[0m\u001b[0;34m\"maximize\"\u001b[0m\u001b[0;34m)\u001b[0m\u001b[0;34m\u001b[0m\u001b[0;34m\u001b[0m\u001b[0m\n\u001b[0;32m----> 3\u001b[0;31m     \u001b[0mstudy\u001b[0m\u001b[0;34m.\u001b[0m\u001b[0moptimize\u001b[0m\u001b[0;34m(\u001b[0m\u001b[0mobjective_cpu\u001b[0m\u001b[0;34m,\u001b[0m \u001b[0mn_trials\u001b[0m\u001b[0;34m=\u001b[0m\u001b[0mN_TRIALS\u001b[0m\u001b[0;34m,\u001b[0m \u001b[0mtimeout\u001b[0m\u001b[0;34m=\u001b[0m\u001b[0;36m600\u001b[0m\u001b[0;34m,\u001b[0m \u001b[0mcallbacks\u001b[0m\u001b[0;34m=\u001b[0m\u001b[0;34m[\u001b[0m\u001b[0mmlflow_callback\u001b[0m\u001b[0;34m]\u001b[0m\u001b[0;34m)\u001b[0m\u001b[0;34m\u001b[0m\u001b[0;34m\u001b[0m\u001b[0m\n\u001b[0m",
      "\u001b[0;31mNameError\u001b[0m: name 'objective_cpu' is not defined"
     ]
    }
   ],
   "source": [
    "with timed(\"mlflow-cpu\"):\n",
    "    study = optuna.create_study(direction=\"maximize\")\n",
    "    study.optimize(objective_cpu, n_trials=N_TRIALS, timeout=600, callbacks=[mlflow_callback])"
   ]
  },
  {
   "cell_type": "code",
   "execution_count": null,
   "metadata": {},
   "outputs": [],
   "source": [
    "print(\"Number of finished trials: {}\".format(len(study.trials)))\n",
    "\n",
    "print(\"Best trial:\")\n",
    "trial = study.best_trial\n",
    "\n",
    "print(\"  Value: {}\".format(trial.value))\n",
    "\n",
    "print(\"  Params: \")\n",
    "for key, value in trial.params.items():\n",
    "    print(\"    {}: {}\".format(key, value))"
   ]
  },
  {
   "cell_type": "code",
   "execution_count": null,
   "metadata": {},
   "outputs": [],
   "source": []
  }
 ],
 "metadata": {
  "kernelspec": {
   "display_name": "Python 3",
   "language": "python",
   "name": "python3"
  },
  "language_info": {
   "codemirror_mode": {
    "name": "ipython",
    "version": 3
   },
   "file_extension": ".py",
   "mimetype": "text/x-python",
   "name": "python",
   "nbconvert_exporter": "python",
   "pygments_lexer": "ipython3",
   "version": "3.6.10"
  }
 },
 "nbformat": 4,
 "nbformat_minor": 4
}
